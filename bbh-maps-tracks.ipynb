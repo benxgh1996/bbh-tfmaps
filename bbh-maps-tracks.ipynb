{
 "cells": [
  {
   "cell_type": "markdown",
   "metadata": {},
   "source": [
    "# BBH Postmerger GW Representations"
   ]
  },
  {
   "cell_type": "markdown",
   "metadata": {},
   "source": [
    "This notebook explores the time-, frequency- and time-frequency representations of BBH merger/post-merger signals\n"
   ]
  },
  {
   "cell_type": "code",
   "execution_count": 1,
   "metadata": {},
   "outputs": [
    {
     "name": "stderr",
     "output_type": "stream",
     "text": [
      "/usr/local/lib/python2.7/dist-packages/h5py/__init__.py:36: FutureWarning: Conversion of the second argument of issubdtype from `float` to `np.floating` is deprecated. In future, it will be treated as `np.float64 == np.dtype(float).type`.\n",
      "  from ._conv import register_converters as _register_converters\n"
     ]
    },
    {
     "name": "stdout",
     "output_type": "stream",
     "text": [
      "\n"
     ]
    }
   ],
   "source": [
    "%matplotlib inline\n",
    "import argparse\n",
    "import matplotlib\n",
    "\n",
    "# The following line is added in order to avoid:\n",
    "# _tkinter.TclError: no display name and no $DISPLAY environment variable,\n",
    "# which occurs when I convert and run this file in a .py script.\n",
    "# matplotlib.use('Agg')\n",
    "\n",
    "import sys, os, h5py\n",
    "import copy\n",
    "import numpy as np\n",
    "from matplotlib import pyplot as plt\n",
    "import cwt\n",
    "from scipy.interpolate import interp1d\n",
    "\n",
    "import lal\n",
    "import pycbc.waveform as wfutils\n",
    "from pycbc.waveform import get_td_waveform,taper_timeseries\n",
    "from pycbc.types import FrequencySeries\n",
    "from pycbc.filter import sigma as optimal_snr\n",
    "\n",
    "fig_width_pt = 510.\n",
    "inches_per_pt = 1.0/72.27               # Convert pt to inches\n",
    "golden_mean = (np.sqrt(5)-1.0)/2.0         # Aesthetic ratio\n",
    "fig_width = fig_width_pt*inches_per_pt  # width in inches\n",
    "fig_height =fig_width*golden_mean       # height in inches\n",
    "fig_size = [fig_width,fig_height]\n",
    "\n",
    "fontsize = 16\n",
    "legendfontsize = 14\n",
    "\n",
    "params={'text.usetex': True,\n",
    "        'axes.labelsize': fontsize,\n",
    "        'font.size': fontsize,\n",
    "        'legend.fontsize': legendfontsize,\n",
    "        'xtick.labelsize': fontsize,\n",
    "        'ytick.labelsize': fontsize,\n",
    "        'figure.figsize': fig_size,\n",
    "        'font.weight': 'normal'\n",
    "       }\n",
    "\n",
    "\n",
    "import pylab\n",
    "pylab.rcParams.update(params)\n",
    "pylab.rcParams['axes.linewidth'] = 1\n",
    "pylab.rc('axes', linewidth=1)\n",
    "\n",
    "def touchbox(ax):\n",
    "    ax.minorticks_on()\n",
    "    ax.tick_params('both', length=5, width=1, which='major')\n",
    "    ax.tick_params('both', length=3.5, width=1, which='minor')\n",
    "    ax.spines['top'].set_linewidth(1)\n",
    "    ax.spines['bottom'].set_linewidth(1)\n",
    "    ax.spines['right'].set_linewidth(1)\n",
    "    ax.spines['left'].set_linewidth(1)\n",
    "    return\n",
    "\n",
    "# plt.style.use('seaborn-darkgrid')\n"
   ]
  },
  {
   "cell_type": "markdown",
   "metadata": {},
   "source": [
    "## Waveform generation\n",
    "Read the input numerical relativity data from the HDF5 file and generate the corresponding gravitational wave signal using the parameters in this notebook.\n"
   ]
  },
  {
   "cell_type": "code",
   "execution_count": 2,
   "metadata": {},
   "outputs": [],
   "source": [
    "def gen_waveform(iota, phi, numrel_data):\n",
    "    ## FIXME(Gonghan): It seems that this variable is never used.\n",
    "    global wavelabel\n",
    "    wavelabel=os.path.join(savepath, numrel_data.split('/')[-1].replace(\".h5\",\"\"))\n",
    "\n",
    "    f = h5py.File(numrel_data, 'r')\n",
    "\n",
    "    global hp, hc\n",
    "    hp, hc = get_td_waveform(approximant='NR_hdf5',\n",
    "                                 numrel_data=numrel_data,\n",
    "                                 mass1=f.attrs['mass1']*mass,\n",
    "                                 mass2=f.attrs['mass2']*mass,\n",
    "                                 spin1z=f.attrs['spin1z'],\n",
    "                                 spin2z=f.attrs['spin2z'],\n",
    "                                 delta_t=1.0/sample_frequency,\n",
    "                                 f_lower=30.,\n",
    "                                 inclination=iota,\n",
    "                                 coa_phase=phi,\n",
    "                                 distance=1000)\n",
    "    \n",
    "    '''mode_array=[[2,2], [2,-2]]'''\n",
    "    \n",
    "#     print \"in gen_waveform, have got hp, hc. iota: {}, phi: {}\".format(iota, phi)\n",
    "#     print hp\n",
    "#     print hc\n",
    "    f.close()\n",
    "\n",
    "    # Taper waveform for smooth FFTs\n",
    "    hp = taper_timeseries(hp, tapermethod=\"TAPER_START\")\n",
    "    hc = taper_timeseries(hc, tapermethod=\"TAPER_START\")\n",
    "\n",
    "    global amp, foft\n",
    "    amp = wfutils.amplitude_from_polarizations(hp,hc)\n",
    "    foft = wfutils.frequency_from_polarizations(hp,hc)\n",
    "\n",
    "    # Shift time origin to merger\n",
    "    global sample_times\n",
    "    \n",
    "    ## FIXME(Gonghan): Not sure how we want to define zero time.\n",
    "    sample_times = amp.sample_times - amp.sample_times[np.argmax(amp)]\n",
    "#     sample_times = amp.sample_times\n",
    "\n",
    "    # # Trim the timeseries before the CWT\n",
    "    # hp_red = hp[:int(sample_frequency)]"
   ]
  },
  {
   "cell_type": "markdown",
   "metadata": {},
   "source": [
    "## Time-Frequency Decomposition\n",
    "Here, we decompose the time series data into a time frequency representation (i.e., image) for image classification.  In this example, we use a [continuous wavelet transform](https://www.mathworks.com/help/wavelet/continuous-wavelet-analysis.html?requestedDomain=true) (\"CWT\")."
   ]
  },
  {
   "cell_type": "code",
   "execution_count": 3,
   "metadata": {},
   "outputs": [],
   "source": [
    "def tf_decompose():\n",
    "    ## FIXME(Gonghan): fmin and fmax are not used in the script.\n",
    "    fmin=sample_frequency*mother_freq/max_scale\n",
    "    fmax=sample_frequency*mother_freq\n",
    "\n",
    "    cwt_result = cwt.build_cwt(hp.data, sample_times, \n",
    "                               mother_freq=mother_freq, \n",
    "                               max_scale=max_scale)\n",
    "    \n",
    "    global wfreqs, wplane\n",
    "    wfreqs = cwt_result['frequencies']\n",
    "    wplane = cwt_result['map']\n",
    "\n",
    "    # Interpolate the spectrogram to a finer frequency grid for smoother plots\n",
    "    # XXX: worth checking that we don't introduce artifacts here\n",
    "    interpolant = interp1d(wfreqs, wplane, axis=0)\n",
    "    wfreqs = np.arange(wfreqs.min(), max_scale)\n",
    "    wplane = interpolant(wfreqs)"
   ]
  },
  {
   "cell_type": "markdown",
   "metadata": {},
   "source": [
    "# Producing plots"
   ]
  },
  {
   "cell_type": "markdown",
   "metadata": {},
   "source": [
    "## Physical units\n",
    "This set of plots are given in the physical units of the waveform, such that time is in seconds, frequency is in Hertz and gravitational wave strain is dimensionless"
   ]
  },
  {
   "cell_type": "code",
   "execution_count": 4,
   "metadata": {},
   "outputs": [],
   "source": [
    "def plot_physical(numrel_data, iota, phi, show_plot=True, in_degree=False, save_plot=True):\n",
    "    print \"I am in plot_physical()!\"\n",
    "    print \"mother frequency:\", mother_freq, \"iota:\", iota, \"phi:\", phi\n",
    "    \n",
    "    plt.close('all')\n",
    "    \n",
    "    fig, ax = plt.subplots(figsize=(fig_width, 2.1*fig_height), \n",
    "                           sharex=True, nrows=2)\n",
    "\n",
    "\n",
    "    #\n",
    "    # Time series\n",
    "    #\n",
    "    a = ax[0].plot(sample_times, hp, label=r'$\\Re[h(t)]$')\n",
    "    b = ax[0].plot(sample_times, amp, label=r'$|h(t)|$')\n",
    "    ax[0].legend()\n",
    "\n",
    "    #\n",
    "    # Spectrogram\n",
    "    #\n",
    "    p_qstrain = ax[1].pcolormesh(sample_times, wfreqs, (abs(wplane)),\n",
    "                              rasterized=False,\n",
    "                             vmin=0,vmax=1,cmap='gnuplot')\n",
    "\n",
    "    #\n",
    "    # Frequency series\n",
    "    #\n",
    "    # FIXME: why is frequency negative??\n",
    "    ax[1].plot(sample_times[:-1], -1*foft, label=r'$\\arg[h(t)]$', \n",
    "               color='green', linestyle='-')\n",
    "\n",
    "    ax[1].legend(loc='upper left')\n",
    "\n",
    "    # XXX Do not delete this, in case we want a colorbar later\n",
    "#     cbaxes = fig.add_axes([0.1275, 0.9, 0.77, 0.03]) \n",
    "#     cbar=fig.colorbar(p_qstrain, orientation='horizontal', cax=cbaxes)\n",
    "#     cbar.ax.xaxis.set_ticks_position('top')\n",
    "#     cbar.ax.xaxis.set_label_position('top')\n",
    "#     ax.clabel(c_qstrain, inline=1, fmt=\"%.1f\", fontsize=14)\n",
    "\n",
    "\n",
    "    for i in xrange(len(ax)):\n",
    "\n",
    "        ax[i].set_xlim(-0.05,0.05)\n",
    "\n",
    "        if i==0:\n",
    "            ax[i].set_ylabel(r'$\\textrm{Strain at 1 Gpc}$')\n",
    "        if i==1:\n",
    "            ax[i].set_ylim(0,max_scale)\n",
    "            ax[i].set_xlabel(r'$\\textrm{Time (s)}$')\n",
    "            ax[i].set_ylabel(r'$\\textrm{Frequency (Hz)}$')\n",
    "\n",
    "        # Beautify the lines\n",
    "        touchbox(ax[i])\n",
    "\n",
    "    plt.subplots_adjust(hspace=0)\n",
    "    \n",
    "    if save_plot:\n",
    "        # Determine figure name from numrel file and orientation\n",
    "        if in_degree:\n",
    "            figname = os.path.join(savepath,\n",
    "                                   os.path.basename(numrel_data).replace('.h5', '')\n",
    "                                   + '_iota-%f' % (iota * 180 / np.pi) \n",
    "                                   + '_phi-%f' % (phi * 180 / np.pi) + '.png')\n",
    "        else:\n",
    "            figname = os.path.join(savepath,\n",
    "                                   os.path.basename(numrel_data).replace('.h5', '')\n",
    "                                   + '_iota-%f' % iota + '_phi-%f' % phi + '.png')\n",
    "        plt.savefig(figname)\n",
    "    \n",
    "    if show_plot:\n",
    "        plt.show()"
   ]
  },
  {
   "cell_type": "markdown",
   "metadata": {},
   "source": [
    "## Natural / geometric units\n",
    "Here we rescale the data such that $$G=c=1$$ and time is in solar masses in seconds, frequency is in units of 1/solar mass and strain amplitude is in solar masses in meters."
   ]
  },
  {
   "cell_type": "code",
   "execution_count": 5,
   "metadata": {},
   "outputs": [],
   "source": [
    "def plot_geometric(numrel_data, iota, phi, show_plot=True, in_degree=False, save_plot=True):\n",
    "    print \"I am in plot_geometric()!\"\n",
    "    print \"mother frequency:\", mother_freq, \"iota:\", iota, \"phi:\", phi\n",
    "    \n",
    "    mscale_sec=lal.MTSUN_SI*mass\n",
    "    mscale_mpc=1/ ( lal.MRSUN_SI / ( 1000 * lal.PC_SI * 1.0e6) )\n",
    "\n",
    "    plt.close('all')\n",
    "    fig, ax = plt.subplots(figsize=(fig_width, 2.1*fig_height), \n",
    "                           sharex=True, nrows=2)\n",
    "\n",
    "\n",
    "    #\n",
    "    # Time series\n",
    "    #\n",
    "    ax[0].plot(sample_times/mscale_sec, hp*mscale_mpc, label=r'$\\Re[h(t)]$')\n",
    "    a = ax[0].plot(sample_times/mscale_sec, amp*mscale_mpc, label=r'$|h(t)|$')\n",
    "    ax[0].legend()\n",
    "\n",
    "    #\n",
    "    # Spectrogram\n",
    "    #\n",
    "    p_qstrain = ax[1].pcolormesh(sample_times/mscale_sec, wfreqs*mscale_sec, \n",
    "                                 (abs(wplane)), cmap='gnuplot', \n",
    "                                 rasterized=False, vmin=0,vmax=1)\n",
    "\n",
    "    #\n",
    "    # Frequency series\n",
    "    #\n",
    "    # FIXME: why is frequency negative??\n",
    "    ax[1].plot(sample_times[:-1]/mscale_sec, -1*foft*mscale_sec, \n",
    "               label=r'$\\arg[h(t)]$', color='g')\n",
    "\n",
    "    ax[1].legend(loc='upper left')\n",
    "\n",
    "\n",
    "    for i in xrange(len(ax)):\n",
    "\n",
    "        ax[i].set_xlim(-0.05/mscale_sec,0.05/mscale_sec)\n",
    "\n",
    "        if i==0:\n",
    "            ax[i].set_ylabel(r'$\\textrm{Strain}$')\n",
    "        if i==1:\n",
    "            ax[i].set_ylim(10*mscale_sec,max_scale*mscale_sec)\n",
    "            ax[i].set_xlabel(r'$\\textrm{Time }(\\textrm{M}_{\\odot})$')\n",
    "            ax[i].set_ylabel(r'$\\textrm{Frequency }(1/\\textrm{M}_{\\odot})$')\n",
    "\n",
    "        # Beautify the lines\n",
    "        touchbox(ax[i])\n",
    "\n",
    "    plt.subplots_adjust(hspace=0)\n",
    "\n",
    "    if save_plot:\n",
    "        if in_degree:\n",
    "            figname = os.path.join(savepath,\n",
    "                                   os.path.basename(numrel_data).replace('.h5', '')\n",
    "                                   + '_iota-%f' % (iota * 180 / np.pi)\n",
    "                                   + '_phi-%f' % (phi * 180 / np.pi) + '_GEOM.png')\n",
    "        else:\n",
    "            figname = os.path.join(savepath,\n",
    "                                   os.path.basename(numrel_data).replace('.h5', '')\n",
    "                                   + '_iota-%f' % iota + '_phi-%f' % phi + '_GEOM.png')\n",
    "        plt.savefig(figname)\n",
    "    \n",
    "    if show_plot:\n",
    "        plt.show()"
   ]
  },
  {
   "cell_type": "markdown",
   "metadata": {},
   "source": [
    "## Generate time-frequency maps\n",
    "Generate physical and geometric time-frequency maps for multiple combinations of the inclination angle and the phase angle."
   ]
  },
  {
   "cell_type": "code",
   "execution_count": 6,
   "metadata": {},
   "outputs": [],
   "source": [
    "# Helper function that checks whether a number is essentially an integer.\n",
    "# This number can be float or int.\n",
    "def is_int(x):\n",
    "    x = float(x)\n",
    "    return x == float(np.floor(x))\n",
    "\n",
    "# Helper function that generates the time-frequency maps (phyical and geometric units) \n",
    "# for one numrel simulation at a pair of inclination angle and phase angle.\n",
    "def gen_one_map(iota, phi, numrel_data, name_in_degree, show_plot=False, save_plot=True):\n",
    "    gen_waveform(iota, phi, numrel_data)\n",
    "    tf_decompose()\n",
    "    plot_physical(numrel_data, iota, phi, show_plot=show_plot, in_degree=name_in_degree, \n",
    "                  save_plot=save_plot)\n",
    "#     plot_geometric(numrel_data, iota, phi, show_plot=show_plot, in_degree=name_in_degree, \n",
    "#                    save_plot=save_plot)\n",
    "\n",
    "# Helper function that checks if step - start == an integer * step.\n",
    "# It also does basic sanity checks.\n",
    "def check_step(start, end, step, var_name, bound=None):\n",
    "    if start < 0 or end < 0 or step < 0:\n",
    "        raise Exception(\"Not all input angles of {} are non-negative.\".format(var_name))\n",
    "    if start > end:\n",
    "        raise Exception(\"End value of {} is smaller than start value.\".format(var_name))\n",
    "    if bound != None:\n",
    "        if end > bound:\n",
    "            raise Exception(\"End value of {} cannot be larger than {}.\".format(var_name, bound))\n",
    "    \n",
    "    if float(step) == 0.0:\n",
    "    # Avoiding zero division error.\n",
    "        if not float(end - start) == 0.0:\n",
    "            raise Exception(\"Step of {} is not consistent.\".format(var_name))\n",
    "    else:\n",
    "        num_steps = float(end - start) / step\n",
    "        if not is_int(num_steps):\n",
    "            raise Exception(\"Step of {} is not consistent.\".format(var_name))\n",
    "\n",
    "# This function generates and saves a set of time-frequency maps for a set of \n",
    "# inclination and phase angles.\n",
    "def gen_maps(iota_start, iota_end, iota_step, phi_start, phi_end, phi_step, name_in_degree, \n",
    "             save_plot=True, show_plot=False):\n",
    "    # Checking whether the steps of iota and phi are consistent with the respective start and end values.\n",
    "    check_step(iota_start, iota_end, iota_step, \"iota\")\n",
    "    check_step(phi_start, phi_end, phi_step, \"phi\")\n",
    "    \n",
    "    for numrel_data in numrel_data_list:\n",
    "        iota = iota_start\n",
    "        while iota <= iota_end:\n",
    "            phi = phi_start\n",
    "            while phi <= phi_end:\n",
    "#                 print \"current numrel_data: \", numrel_data, \"iota: \", iota, \"phi:\", phi\n",
    "                gen_one_map(iota, phi, numrel_data, name_in_degree, save_plot=save_plot, show_plot=show_plot)\n",
    "#                 print \"\"\n",
    "                phi += phi_step\n",
    "                \n",
    "                # In case of phi_step == 0\n",
    "                if phi == phi_start:\n",
    "                    break     \n",
    "            iota += iota_step\n",
    "     \n",
    "            # In case ofiota_step == 0\n",
    "            if iota == iota_start:\n",
    "                break\n"
   ]
  },
  {
   "cell_type": "markdown",
   "metadata": {},
   "source": [
    "## Configuration\n",
    "The following sections define where to save data, the BBH waveform to generate and the resolution of our time-frequency maps, generated via continuous wavelet transforms."
   ]
  },
  {
   "cell_type": "markdown",
   "metadata": {},
   "source": [
    "### Waveform configuration\n",
    " * `mass`: total mass of the system in solar masses\n",
    " * `sample_frequency`: frequency with which the digitized time-series is sampled.  Time spacing between samples is `1/sample_frequency`\n"
   ]
  },
  {
   "cell_type": "code",
   "execution_count": 7,
   "metadata": {},
   "outputs": [],
   "source": [
    "# mass=100\n",
    "mass = 100\n",
    "sample_frequency = 4096"
   ]
  },
  {
   "cell_type": "markdown",
   "metadata": {},
   "source": [
    "### Orientation\n",
    " * `phi`: coalescence phase; determined by the azimuthal angle around the system\n",
    " * `iota`: inclination of orbital plane with respect to the line-of-sight, *at the start of the simulation*\n"
   ]
  },
  {
   "cell_type": "code",
   "execution_count": 8,
   "metadata": {},
   "outputs": [],
   "source": [
    "# The following lines of code are not used for now.\n",
    "# phi=0.0\n",
    "# iota=0.0"
   ]
  },
  {
   "cell_type": "markdown",
   "metadata": {},
   "source": [
    "### File Configuration\n",
    " * `savepath`: figures will be saved to this directory of the container\n",
    " * `numrel_data_list`: The numerical relativity simulations to use"
   ]
  },
  {
   "cell_type": "markdown",
   "metadata": {},
   "source": [
    "### Generating time-frequency maps\n",
    "This section generates the time-frequency maps for specified angles."
   ]
  },
  {
   "cell_type": "markdown",
   "metadata": {},
   "source": [
    "### Time-frequency Decomposition\n",
    "This section determines the range of frequencies we observe, and the resolution of the time-frequency maps.\n",
    " * `mother_freq`: frequency of the mother wavelet\n",
    " * `max_scale`: maximum wavelet scale\n",
    "Note that the frequency space of the spectrogram is given by:\n",
    "```\n",
    "fmin=sample_frequency*mother_freq/max_scale\n",
    "fmax=sample_frequency*mother_freq\n",
    "```"
   ]
  },
  {
   "cell_type": "code",
   "execution_count": 10,
   "metadata": {},
   "outputs": [
    {
     "name": "stdout",
     "output_type": "stream",
     "text": [
      "I am in plot_physical()!\n",
      "mother frequency: 0.5 iota: 1.57079632679 phi: 3.14159265359\n"
     ]
    },
    {
     "data": {
      "image/png": "[encoded data removed]",
      "text/plain": [
       "<Figure size 508.095x659.441 with 2 Axes>"
      ]
     },
     "metadata": {},
     "output_type": "display_data"
    }
   ],
   "source": [
    "pi = np.pi\n",
    "\n",
    "# parser = argparse.ArgumentParser()\n",
    "# parser.add_argument(\"filepath\", help=\"absolute path of the .h5 waveform file that you \\\n",
    "#                     want to generate your time-frequency map from.\")\n",
    "# parser.add_argument(\"savepath\", help=\"the absolute path for the directory where the generated plots are saved.\")\n",
    "# parser.add_argument(\"iota_start\", type=float, help=\"the starting value of the inclination angle.\")\n",
    "# parser.add_argument(\"iota_end\", type=float, help=\"the ending value of the inclination angle.\")\n",
    "# parser.add_argument(\"iota_step\", type=float, help=\"the step value of the inclination angle.\")\n",
    "# parser.add_argument(\"phi_start\", type=float, help=\"the starting value of the phase angle.\")\n",
    "# parser.add_argument(\"phi_end\", type=float, help=\"the ending value of the phase angle.\")\n",
    "# parser.add_argument(\"phi_step\", type=float, help=\"the step value of the phase angle.\")\n",
    "# parser.add_argument(\"-r\", \"--rad\", action=\"store_true\", help=\"Optional argument to specify whether \\\n",
    "#                     you want to input the angles in radians. If not specfied, the input angles \\\n",
    "#                     are default to degrees. If you specify the angles in radians, you should input \\\n",
    "#                     the angles as fractions of pi, without inputting the symbol pi itself.\")\n",
    "\n",
    "# args = parser.parse_args()\n",
    "# if not args.rad:\n",
    "#     iota_start, iota_end, iota_step = args.iota_start*pi/180, args.iota_end*pi/180, args.iota_step*pi/180\n",
    "#     phi_start, phi_end, phi_step = args.phi_start*pi/180, args.phi_end*pi/180, args.phi_step*pi/180\n",
    "#     check_step(iota_start, iota_end, iota_step, \"iota\", 2*pi)\n",
    "#     check_step(phi_start, phi_end, phi_step, \"phi\", 2*pi)\n",
    "#     name_in_degree = True\n",
    "    \n",
    "# else:\n",
    "#     iota_start, iota_end, iota_step = args.iota_start * pi, args.iota_end * pi, args.iota_step * pi\n",
    "#     phi_start, phi_end, phi_step = args.phi_start * pi, args.phi_end * pi, args.phi_step * pi\n",
    "#     check_step(iota_start, iota_end, iota_step, \"iota\", 2*pi)\n",
    "#     check_step(phi_start, phi_end, phi_step, \"phi\", 2*pi)\n",
    "#     name_in_degree = False\n",
    "    \n",
    "# savepath = args.savepath\n",
    "# filepath = args.filepath\n",
    "# numrel_data_list = [filepath]\n",
    "\n",
    "# Transform parameters\n",
    "# mother_freq was originally 0.5.\n",
    "mother_freq = 1\n",
    "max_scale=512\n",
    "\n",
    "savepath = \"/bbh-tfmaps/testplots\"\n",
    "numrel_data_list=[\"/waves/GT0370.h5\", \"/waves/GT0448.h5\", \"/waves/GT0476.h5\", \"/waves/GT0477.h5\", \n",
    "                  \"/waves/GT0564.h5\", \"/waves/GT0577.h5\", \"/waves/GT0621.h5\", \"/waves/GT0622.h5\", \n",
    "                  \"/waves/GT0650.h5\", \"/waves/GT0651.h5\", \"/waves/GT0818.h5\", \"/waves/GT0900.h5\"]\n",
    "numrel_data_list=[\"/waves/GT0577.h5\"]\n",
    "\n",
    "iota, phi = pi/2, pi\n",
    "\n",
    "iota_start, iota_end, iota_step = iota, iota, 0\n",
    "phi_start, phi_end, phi_step = phi, phi, 0\n",
    "name_in_degree = False\n",
    "\n",
    "# Notice that the iota and phi values supplied to gen_maps are always in radian.\n",
    "for mother_freq in np.linspace(0.5, 0.5, 1):\n",
    "    gen_maps(iota_start, iota_end, iota_step,\n",
    "             phi_start, phi_end, phi_step, name_in_degree, save_plot=False, show_plot=True)\n"
   ]
  },
  {
   "cell_type": "code",
   "execution_count": null,
   "metadata": {},
   "outputs": [],
   "source": []
  }
 ],
 "metadata": {
  "kernelspec": {
   "display_name": "Python 2",
   "language": "python",
   "name": "python2"
  },
  "language_info": {
   "codemirror_mode": {
    "name": "ipython",
    "version": 2
   },
   "file_extension": ".py",
   "mimetype": "text/x-python",
   "name": "python",
   "nbconvert_exporter": "python",
   "pygments_lexer": "ipython2",
   "version": "2.7.9"
  }
 },
 "nbformat": 4,
 "nbformat_minor": 2
}
